{
 "cells": [
  {
   "cell_type": "markdown",
   "metadata": {
    "id": "NFmOh482SyEF"
   },
   "source": [
    "## Lab 2\n",
    "### Part 2: Dealing with overfitting"
   ]
  },
  {
   "cell_type": "markdown",
   "metadata": {
    "id": "AjzAuO3oSvsI"
   },
   "source": [
    "Today we work with [Fashion-MNIST dataset](https://github.com/zalandoresearch/fashion-mnist) (*hint: it is available in `torchvision`*).\n",
    "\n",
    "Your goal for today:\n",
    "1. Train a FC (fully-connected) network that achieves >= 0.885 test accuracy.\n",
    "2. Cause considerable overfitting by modifying the network (e.g. increasing the number of network parameters and/or layers) and demonstrate in in the appropriate way (e.g. plot loss and accurasy on train and validation set w.r.t. network complexity).\n",
    "3. Try to deal with overfitting (at least partially) by using regularization techniques (Dropout/Batchnorm/...) and demonstrate the results.\n",
    "\n",
    "__Please, write a small report describing your ideas, tries and achieved results in the end of this file.__\n",
    "\n",
    "*Note*: Tasks 2 and 3 are interrelated, in task 3 your goal is to make the network from task 2 less prone to overfitting. Task 1 is independent from 2 and 3.\n",
    "\n",
    "*Note 2*: We recomment to use Google Colab or other machine with GPU acceleration."
   ]
  },
  {
   "cell_type": "code",
   "execution_count": 1,
   "metadata": {
    "id": "_KBld6VOSwhW"
   },
   "outputs": [],
   "source": [
    "import torch\n",
    "import torch.nn as nn\n",
    "import torchvision\n",
    "import torchvision.transforms as transforms\n",
    "import torchsummary\n",
    "from IPython.display import clear_output\n",
    "from matplotlib import pyplot as plt\n",
    "from matplotlib.pyplot import figure\n",
    "import numpy as np\n",
    "import os\n",
    "\n",
    "\n",
    "device = 'cuda:0' if torch.cuda.is_available() else 'cpu'"
   ]
  },
  {
   "cell_type": "code",
   "execution_count": 2,
   "metadata": {
    "id": "R7jt7vb4Hyzs"
   },
   "outputs": [],
   "source": [
    "from typing import Tuple, List, Type, Dict, Any\n",
    "from tqdm.notebook import tqdm"
   ]
  },
  {
   "cell_type": "code",
   "execution_count": 3,
   "metadata": {
    "colab": {
     "base_uri": "https://localhost:8080/"
    },
    "id": "EdLOG0XqS_g5",
    "outputId": "1e4c9dd1-3c42-498d-e09f-fa5ff2235536"
   },
   "outputs": [
    {
     "name": "stdout",
     "output_type": "stream",
     "text": [
      "Directory fmnist already exists!\n"
     ]
    }
   ],
   "source": [
    "# Technical function\n",
    "def mkdir(path):\n",
    "    if not os.path.exists(root_path):\n",
    "        os.mkdir(root_path)\n",
    "        print('Directory', path, 'is created!')\n",
    "    else:\n",
    "        print('Directory', path, 'already exists!')\n",
    "        \n",
    "root_path = 'fmnist'\n",
    "mkdir(root_path)"
   ]
  },
  {
   "cell_type": "code",
   "execution_count": 4,
   "metadata": {
    "id": "qt6LE7XaTDT9"
   },
   "outputs": [],
   "source": [
    "download = True\n",
    "train_transform = transforms.ToTensor()\n",
    "test_transform = transforms.ToTensor()\n",
    "transforms.Compose((transforms.ToTensor()))\n",
    "\n",
    "\n",
    "fmnist_dataset_train = torchvision.datasets.FashionMNIST(root_path, \n",
    "                                                        train=True, \n",
    "                                                        transform=train_transform,\n",
    "                                                        target_transform=None,\n",
    "                                                        download=download)\n",
    "fmnist_dataset_test = torchvision.datasets.FashionMNIST(root_path, \n",
    "                                                       train=False, \n",
    "                                                       transform=test_transform,\n",
    "                                                       target_transform=None,\n",
    "                                                       download=download)"
   ]
  },
  {
   "cell_type": "code",
   "execution_count": 5,
   "metadata": {
    "id": "WNmlrcp4MyNV"
   },
   "outputs": [],
   "source": [
    "train_set, val_set = torch.utils.data.random_split(fmnist_dataset_train, [50000, 10000])"
   ]
  },
  {
   "cell_type": "code",
   "execution_count": 6,
   "metadata": {
    "id": "71YP0SPwTIxD"
   },
   "outputs": [],
   "source": [
    "train_loader = torch.utils.data.DataLoader(train_set, \n",
    "                                           batch_size=128,\n",
    "                                           shuffle=True,\n",
    "                                           num_workers=2)\n",
    "\n",
    "val_loader = torch.utils.data.DataLoader(val_set, \n",
    "                                           batch_size=128,\n",
    "                                           shuffle=True,\n",
    "                                           num_workers=2)\n",
    "\n",
    "test_loader = torch.utils.data.DataLoader(fmnist_dataset_test,\n",
    "                                          batch_size=256,\n",
    "                                          shuffle=False,\n",
    "                                          num_workers=2)"
   ]
  },
  {
   "cell_type": "code",
   "execution_count": 7,
   "metadata": {
    "colab": {
     "base_uri": "https://localhost:8080/"
    },
    "id": "v_YFmF7NTWrQ",
    "outputId": "06931bf7-2733-4d7f-a63d-f45305789454"
   },
   "outputs": [
    {
     "data": {
      "text/plain": [
       "10000"
      ]
     },
     "execution_count": 7,
     "metadata": {},
     "output_type": "execute_result"
    }
   ],
   "source": [
    "len(fmnist_dataset_test)"
   ]
  },
  {
   "cell_type": "code",
   "execution_count": 8,
   "metadata": {
    "colab": {
     "base_uri": "https://localhost:8080/"
    },
    "id": "aHca15bOTY4B",
    "outputId": "192c0b6a-9517-4c87-e733-3b11b679ee9a"
   },
   "outputs": [
    {
     "name": "stdout",
     "output_type": "stream",
     "text": [
      "torch.Size([128, 1, 28, 28])\n",
      "torch.Size([128])\n",
      "128\n"
     ]
    }
   ],
   "source": [
    "for img, label in train_loader:\n",
    "    print(img.shape)\n",
    "#     print(img)\n",
    "    print(label.shape)\n",
    "    print(label.size(0))\n",
    "    break"
   ]
  },
  {
   "cell_type": "markdown",
   "metadata": {
    "id": "b6OOOffHTfX5"
   },
   "source": [
    "### Task 1\n",
    "Train a network that achieves $\\geq 0.885$ test accuracy. It's fine to use only Linear (`nn.Linear`) layers and activations/dropout/batchnorm. Convolutional layers might be a great use, but we will meet them a bit later."
   ]
  },
  {
   "cell_type": "code",
   "execution_count": 32,
   "metadata": {
    "id": "ftpkTjxlTcFx"
   },
   "outputs": [],
   "source": [
    "class TinyNeuralNetwork(nn.Module):\n",
    "    def __init__(self, input_shape=28*28, num_classes=10, input_channels=1):\n",
    "        super(self.__class__, self).__init__()\n",
    "        self.model = nn.Sequential(\n",
    "            nn.Flatten(), # This layer converts image into a vector to use Linear layers afterwards\n",
    "            # Your network structure comes here\n",
    "            nn.Linear(input_shape * input_channels, 256),\n",
    "            nn.BatchNorm1d(256),\n",
    "            nn.ReLU(),\n",
    "            nn.Dropout(),\n",
    "            nn.Linear(256, num_classes)\n",
    "        )\n",
    "        \n",
    "    def forward(self, inp):       \n",
    "        out = self.model(inp)\n",
    "        return out\n",
    "        \n",
    "    def __call__(self, inp):\n",
    "        return self.forward(inp)"
   ]
  },
  {
   "cell_type": "code",
   "execution_count": 33,
   "metadata": {
    "colab": {
     "base_uri": "https://localhost:8080/"
    },
    "id": "L5zz9t698iBz",
    "outputId": "a8a2a162-42c1-40f6-8c84-4bacae31ee37"
   },
   "outputs": [
    {
     "name": "stdout",
     "output_type": "stream",
     "text": [
      "----------------------------------------------------------------\n",
      "        Layer (type)               Output Shape         Param #\n",
      "================================================================\n",
      "           Flatten-1                  [-1, 784]               0\n",
      "            Linear-2                  [-1, 256]         200,960\n",
      "       BatchNorm1d-3                  [-1, 256]             512\n",
      "              ReLU-4                  [-1, 256]               0\n",
      "           Dropout-5                  [-1, 256]               0\n",
      "            Linear-6                   [-1, 10]           2,570\n",
      "================================================================\n",
      "Total params: 204,042\n",
      "Trainable params: 204,042\n",
      "Non-trainable params: 0\n",
      "----------------------------------------------------------------\n",
      "Input size (MB): 0.00\n",
      "Forward/backward pass size (MB): 0.01\n",
      "Params size (MB): 0.78\n",
      "Estimated Total Size (MB): 0.80\n",
      "----------------------------------------------------------------\n"
     ]
    }
   ],
   "source": [
    "\n",
    "torchsummary.summary(TinyNeuralNetwork().to(device), (28*28,))"
   ]
  },
  {
   "cell_type": "code",
   "execution_count": 34,
   "metadata": {
    "colab": {
     "base_uri": "https://localhost:8080/"
    },
    "id": "rDxJXSHeMQLz",
    "outputId": "eb59a6bc-6477-4d6b-d762-f67138474bda"
   },
   "outputs": [
    {
     "name": "stdout",
     "output_type": "stream",
     "text": [
      "TinyNeuralNetwork(\n",
      "  (model): Sequential(\n",
      "    (0): Flatten(start_dim=1, end_dim=-1)\n",
      "    (1): Linear(in_features=784, out_features=256, bias=True)\n",
      "    (2): BatchNorm1d(256, eps=1e-05, momentum=0.1, affine=True, track_running_stats=True)\n",
      "    (3): ReLU()\n",
      "    (4): Dropout(p=0.5, inplace=False)\n",
      "    (5): Linear(in_features=256, out_features=10, bias=True)\n",
      "  )\n",
      ")\n"
     ]
    }
   ],
   "source": [
    "model = TinyNeuralNetwork().to(device)\n",
    "opt = torch.optim.Adam(model.parameters(), lr=0.01)\n",
    "loss_func = nn.CrossEntropyLoss()\n",
    "print(model)"
   ]
  },
  {
   "cell_type": "code",
   "execution_count": 35,
   "metadata": {
    "id": "6Ey3_23vPh0v"
   },
   "outputs": [],
   "source": [
    "def plot_train_process(train_loss, val_loss, val_accuracy):\n",
    "    fig, axes = plt.subplots(1, 2, figsize=(15, 5))\n",
    "\n",
    "    axes[0].set_title('Loss')\n",
    "    axes[0].plot(train_loss, label='train')\n",
    "    axes[0].plot(val_loss, label='validation')\n",
    "    axes[0].legend()\n",
    "\n",
    "    axes[1].set_title('Validation accuracy')\n",
    "    axes[1].plot(val_accuracy)"
   ]
  },
  {
   "cell_type": "code",
   "execution_count": 36,
   "metadata": {
    "id": "3KlxsMJJSBSA"
   },
   "outputs": [],
   "source": [
    "def train_model(\n",
    "        model: torch.nn.Module,\n",
    "        train_loader: torch.utils.data.DataLoader,\n",
    "        val_loader: torch.utils.data.DataLoader,\n",
    "        loss_function: torch.nn.Module = torch.nn.CrossEntropyLoss(),\n",
    "        optimizer_class: Type[torch.optim.Optimizer] = torch.optim,\n",
    "        optimizer_params: Dict = {},\n",
    "        initial_lr=0.01,\n",
    "        lr_scheduler_class: Any = torch.optim.lr_scheduler.ReduceLROnPlateau,\n",
    "        lr_scheduler_params: Dict = {},\n",
    "        batch_size=128,\n",
    "        max_epochs=1000,\n",
    "        early_stopping_patience=20):\n",
    "    optimizer = optimizer_class(model.parameters(),\n",
    "                                 lr=initial_lr,\n",
    "                                 **optimizer_params)\n",
    "    lr_scheduler = lr_scheduler_class(optimizer, **lr_scheduler_params)\n",
    "\n",
    "    best_val_loss = None\n",
    "    best_epoch = None\n",
    "    val_loss_array = []\n",
    "    train_loss_array = []\n",
    "    val_accuracy_array = []\n",
    "\n",
    "    for epoch in range(max_epochs):\n",
    "        print(f'Epoch {epoch}')\n",
    "        train_loss = train_single_epoch(model, optimizer, loss_function, train_loader)\n",
    "        val_metrics = validate_single_epoch(model, loss_function, val_loader)\n",
    "\n",
    "        train_loss_array.append(train_loss)\n",
    "        val_loss_array.append(val_metrics['loss'])\n",
    "        val_accuracy_array.append(val_metrics['accuracy'])\n",
    "\n",
    "        print(f'Validation metrics: \\n{val_metrics}')\n",
    "        print(f'Train metrics: \\n loss: {train_loss}')\n",
    "\n",
    "        lr_scheduler.step(val_metrics['loss'])\n",
    "\n",
    "        if best_val_loss is None or best_val_loss > val_metrics['loss']:\n",
    "            print(f'Best model yet, saving')\n",
    "            best_val_loss = val_metrics['loss']\n",
    "            best_epoch = epoch\n",
    "            torch.save(model, './best_model.pth')\n",
    "\n",
    "        if epoch - best_epoch > early_stopping_patience:\n",
    "            print('Early stopping triggered')\n",
    "            return\n",
    "    \n",
    "    return train_loss_array, val_loss_array, val_accuracy_array"
   ]
  },
  {
   "cell_type": "code",
   "execution_count": 37,
   "metadata": {
    "id": "0kaziRgdSM6W"
   },
   "outputs": [],
   "source": [
    "def train_single_epoch(model: torch.nn.Module,\n",
    "                       optimizer: torch.optim.Optimizer,\n",
    "                       loss_function: torch.nn.Module,\n",
    "                       data_loader: torch.utils.data.DataLoader):\n",
    "    model.train()\n",
    "    loss_sum = 0\n",
    "    batches = 0\n",
    "    for x_batch, y_batch in data_loader:\n",
    "        batches += 1\n",
    "        optimizer.zero_grad()\n",
    "        x_batch = x_batch.to(device)\n",
    "        y_pred = model(x_batch)\n",
    "        loss = loss_function(y_pred, y_batch.to(device))\n",
    "        loss_sum += loss\n",
    "        loss.backward()\n",
    "        optimizer.step()\n",
    "    return loss_sum / batches"
   ]
  },
  {
   "cell_type": "code",
   "execution_count": 38,
   "metadata": {
    "id": "UfMgoPRtSPHq"
   },
   "outputs": [],
   "source": [
    "def validate_single_epoch(model: torch.nn.Module,\n",
    "                          loss_function: torch.nn.Module,\n",
    "                          data_loader: torch.utils.data.DataLoader):\n",
    "    model.eval()\n",
    "    loss_history = []\n",
    "    accuracy_history = []\n",
    "    acc = 0\n",
    "    batches = 0\n",
    "    loss = 0\n",
    "    for x_batch, y_batch in data_loader:\n",
    "        batches += 1\n",
    "        x_batch = x_batch.to(device)\n",
    "        with torch.no_grad():\n",
    "            y_pred = model(x_batch)\n",
    "        loss += loss_function(y_pred, y_batch.to(device)).item()\n",
    "        acc += (torch.argmax(y_pred, dim=1) == y_batch.to(device)).cpu().numpy().mean()\n",
    "\n",
    "    return {'loss': loss / batches, 'accuracy': acc / batches}"
   ]
  },
  {
   "cell_type": "code",
   "execution_count": 39,
   "metadata": {
    "colab": {
     "base_uri": "https://localhost:8080/"
    },
    "id": "vmUeYwUoS811",
    "outputId": "66e44111-b35b-42de-a457-432082510393"
   },
   "outputs": [
    {
     "name": "stdout",
     "output_type": "stream",
     "text": [
      "Epoch 0\n",
      "Validation metrics: \n",
      "{'loss': 0.4043301515564134, 'accuracy': 0.8559137658227848}\n",
      "Train metrics: \n",
      " loss: 0.53608238697052\n",
      "Best model yet, saving\n",
      "Epoch 1\n",
      "Validation metrics: \n",
      "{'loss': 0.37835777975335905, 'accuracy': 0.8615506329113924}\n",
      "Train metrics: \n",
      " loss: 0.41608762741088867\n",
      "Best model yet, saving\n",
      "Epoch 2\n",
      "Validation metrics: \n",
      "{'loss': 0.3693551311764536, 'accuracy': 0.8667919303797469}\n",
      "Train metrics: \n",
      " loss: 0.38759517669677734\n",
      "Best model yet, saving\n",
      "Epoch 3\n",
      "Validation metrics: \n",
      "{'loss': 0.35567914439907555, 'accuracy': 0.8668908227848101}\n",
      "Train metrics: \n",
      " loss: 0.3641393184661865\n",
      "Best model yet, saving\n",
      "Epoch 4\n",
      "Validation metrics: \n",
      "{'loss': 0.3473130964402911, 'accuracy': 0.8721321202531646}\n",
      "Train metrics: \n",
      " loss: 0.34758737683296204\n",
      "Best model yet, saving\n",
      "Epoch 5\n",
      "Validation metrics: \n",
      "{'loss': 0.3401982639032074, 'accuracy': 0.8770767405063291}\n",
      "Train metrics: \n",
      " loss: 0.33951324224472046\n",
      "Best model yet, saving\n",
      "Epoch 6\n",
      "Validation metrics: \n",
      "{'loss': 0.32793226291107225, 'accuracy': 0.8806368670886076}\n",
      "Train metrics: \n",
      " loss: 0.3268623948097229\n",
      "Best model yet, saving\n",
      "Epoch 7\n",
      "Validation metrics: \n",
      "{'loss': 0.3203355571891688, 'accuracy': 0.8827136075949367}\n",
      "Train metrics: \n",
      " loss: 0.3192601501941681\n",
      "Best model yet, saving\n",
      "Epoch 8\n",
      "Validation metrics: \n",
      "{'loss': 0.3210809091223946, 'accuracy': 0.8843947784810127}\n",
      "Train metrics: \n",
      " loss: 0.3081899881362915\n",
      "Epoch 9\n",
      "Validation metrics: \n",
      "{'loss': 0.3214370822416076, 'accuracy': 0.8842958860759493}\n",
      "Train metrics: \n",
      " loss: 0.302224725484848\n",
      "Epoch 10\n",
      "Validation metrics: \n",
      "{'loss': 0.3272730449709711, 'accuracy': 0.8831091772151899}\n",
      "Train metrics: \n",
      " loss: 0.2943679988384247\n",
      "Epoch 11\n",
      "Validation metrics: \n",
      "{'loss': 0.32655622593209715, 'accuracy': 0.8856803797468354}\n",
      "Train metrics: \n",
      " loss: 0.29185840487480164\n",
      "Epoch 12\n",
      "Validation metrics: \n",
      "{'loss': 0.3063309493038473, 'accuracy': 0.8912183544303798}\n",
      "Train metrics: \n",
      " loss: 0.2800097167491913\n",
      "Best model yet, saving\n",
      "Epoch 13\n",
      "Validation metrics: \n",
      "{'loss': 0.3089903163004525, 'accuracy': 0.8895371835443038}\n",
      "Train metrics: \n",
      " loss: 0.27465084195137024\n",
      "Epoch 14\n",
      "Validation metrics: \n",
      "{'loss': 0.3000874177941793, 'accuracy': 0.8919106012658228}\n",
      "Train metrics: \n",
      " loss: 0.27451303601264954\n",
      "Best model yet, saving\n"
     ]
    }
   ],
   "source": [
    "train_loss_array, val_loss_array, val_accuracy_array = train_model(model,\n",
    "            train_loader=train_loader,\n",
    "            val_loader=val_loader,\n",
    "            loss_function=torch.nn.functional.cross_entropy,\n",
    "            optimizer_class=torch.optim.Adam,\n",
    "            initial_lr=0.001,\n",
    "            max_epochs=15)"
   ]
  },
  {
   "cell_type": "code",
   "execution_count": 40,
   "metadata": {
    "colab": {
     "base_uri": "https://localhost:8080/",
     "height": 336
    },
    "id": "UiNaJxt_QzDC",
    "outputId": "403064d0-5210-4d1a-df0e-44eb3671f6b6"
   },
   "outputs": [
    {
     "data": {
      "image/png": "[encoded data removed]",
      "text/plain": [
       "<Figure size 1080x360 with 2 Axes>"
      ]
     },
     "metadata": {
      "needs_background": "light"
     },
     "output_type": "display_data"
    }
   ],
   "source": [
    "plot_train_process(train_loss_array, val_loss_array, val_accuracy_array)"
   ]
  },
  {
   "cell_type": "code",
   "execution_count": 41,
   "metadata": {
    "id": "qWInEzM-WDUK"
   },
   "outputs": [],
   "source": [
    "def test_predict(test_loader):\n",
    "    model = torch.load('./best_model.pth')\n",
    "    model.eval()\n",
    "\n",
    "    acc = 0\n",
    "    batches = 0\n",
    "    for x_batch, y_batch in test_loader:\n",
    "        y_pred = model.forward(x_batch.to(device))\n",
    "        batches += 1\n",
    "        acc += ((torch.argmax(y_pred, dim=1) == y_batch.to(device)).cpu().numpy().mean())\n",
    "    return (acc/batches)"
   ]
  },
  {
   "cell_type": "code",
   "execution_count": 42,
   "metadata": {
    "colab": {
     "base_uri": "https://localhost:8080/"
    },
    "id": "eY1a6yWYb7sB",
    "outputId": "1a46eb2d-0318-49ef-f7e9-b41133c71e05"
   },
   "outputs": [
    {
     "name": "stdout",
     "output_type": "stream",
     "text": [
      "0.88779296875\n"
     ]
    }
   ],
   "source": [
    "print(test_predict(test_loader=test_loader))"
   ]
  },
  {
   "cell_type": "markdown",
   "metadata": {
    "id": "544PGKEnjPr5"
   },
   "source": [
    "Your experiments come here:"
   ]
  },
  {
   "cell_type": "markdown",
   "metadata": {
    "id": "L7ISqkjmCPB1"
   },
   "source": [
    "### Task 2: Overfit it.\n",
    "Build a network that will overfit to this dataset. Demonstrate the overfitting in the appropriate way (e.g. plot loss and accurasy on train and test set w.r.t. network complexity).\n",
    "\n",
    "*Note:* you also might decrease the size of `train` dataset to enforce the overfitting and speed up the computations."
   ]
  },
  {
   "cell_type": "code",
   "execution_count": 20,
   "metadata": {
    "id": "H12uAWiGBwJx"
   },
   "outputs": [],
   "source": [
    "class OverfittingNeuralNetwork(nn.Module):\n",
    "    def __init__(self, input_shape=28*28, num_classes=10, input_channels=1):\n",
    "        super(self.__class__, self).__init__()\n",
    "        self.model = nn.Sequential(\n",
    "            nn.Flatten(), # This layer converts image into a vector to use Linear layers afterwards\n",
    "            # Your network structure comes here\n",
    "            nn.Linear(input_shape * input_channels, 512),\n",
    "            nn.ReLU(),\n",
    "            nn.Linear(512, 256),\n",
    "            nn.ReLU(),\n",
    "            nn.Linear(256, 10)\n",
    "        )\n",
    "        \n",
    "    def forward(self, inp):       \n",
    "        out = self.model(inp)\n",
    "        return out\n",
    "    \n",
    "    def __call__(self, inp):\n",
    "        return self.forward(inp)"
   ]
  },
  {
   "cell_type": "code",
   "execution_count": 21,
   "metadata": {
    "colab": {
     "base_uri": "https://localhost:8080/"
    },
    "id": "JgXAKCpvCwqH",
    "outputId": "26beae5a-a23a-488d-e185-cfb30fdb0987"
   },
   "outputs": [
    {
     "name": "stdout",
     "output_type": "stream",
     "text": [
      "----------------------------------------------------------------\n",
      "        Layer (type)               Output Shape         Param #\n",
      "================================================================\n",
      "           Flatten-1                  [-1, 784]               0\n",
      "            Linear-2                  [-1, 512]         401,920\n",
      "              ReLU-3                  [-1, 512]               0\n",
      "            Linear-4                  [-1, 256]         131,328\n",
      "              ReLU-5                  [-1, 256]               0\n",
      "            Linear-6                   [-1, 10]           2,570\n",
      "================================================================\n",
      "Total params: 535,818\n",
      "Trainable params: 535,818\n",
      "Non-trainable params: 0\n",
      "----------------------------------------------------------------\n",
      "Input size (MB): 0.00\n",
      "Forward/backward pass size (MB): 0.02\n",
      "Params size (MB): 2.04\n",
      "Estimated Total Size (MB): 2.06\n",
      "----------------------------------------------------------------\n"
     ]
    }
   ],
   "source": [
    "torchsummary.summary(OverfittingNeuralNetwork().to(device), (28*28,))"
   ]
  },
  {
   "cell_type": "code",
   "execution_count": 22,
   "metadata": {
    "colab": {
     "base_uri": "https://localhost:8080/"
    },
    "id": "aQgQGPWr8iB0",
    "outputId": "940382bc-96a7-4067-e3dc-0e554bc690d3"
   },
   "outputs": [
    {
     "name": "stdout",
     "output_type": "stream",
     "text": [
      "OverfittingNeuralNetwork(\n",
      "  (model): Sequential(\n",
      "    (0): Flatten(start_dim=1, end_dim=-1)\n",
      "    (1): Linear(in_features=784, out_features=512, bias=True)\n",
      "    (2): ReLU()\n",
      "    (3): Linear(in_features=512, out_features=256, bias=True)\n",
      "    (4): ReLU()\n",
      "    (5): Linear(in_features=256, out_features=10, bias=True)\n",
      "  )\n",
      ")\n"
     ]
    }
   ],
   "source": [
    "model = OverfittingNeuralNetwork().to(device)\n",
    "opt = torch.optim.Adam(model.parameters(), lr=0.01)\n",
    "loss_func = nn.CrossEntropyLoss()\n",
    "\n",
    "print(model)\n",
    "# Your experiments, come here"
   ]
  },
  {
   "cell_type": "code",
   "execution_count": 23,
   "metadata": {
    "colab": {
     "base_uri": "https://localhost:8080/"
    },
    "id": "vbps53m3cLmL",
    "outputId": "71ac5653-1c31-4d7e-a401-3d59c7823bd0"
   },
   "outputs": [
    {
     "name": "stdout",
     "output_type": "stream",
     "text": [
      "Epoch 0\n",
      "Validation metrics: \n",
      "{'loss': 0.45269613590421554, 'accuracy': 0.8358386075949367}\n",
      "Train metrics: \n",
      " loss: 0.5493765473365784\n",
      "Best model yet, saving\n",
      "Epoch 1\n",
      "Validation metrics: \n",
      "{'loss': 0.37175372780501087, 'accuracy': 0.8653085443037974}\n",
      "Train metrics: \n",
      " loss: 0.37706074118614197\n",
      "Best model yet, saving\n",
      "Epoch 2\n",
      "Validation metrics: \n",
      "{'loss': 0.36615640057038656, 'accuracy': 0.8616495253164557}\n",
      "Train metrics: \n",
      " loss: 0.33989739418029785\n",
      "Best model yet, saving\n",
      "Epoch 3\n",
      "Validation metrics: \n",
      "{'loss': 0.35322053145758714, 'accuracy': 0.867879746835443}\n",
      "Train metrics: \n",
      " loss: 0.31102776527404785\n",
      "Best model yet, saving\n",
      "Epoch 4\n",
      "Validation metrics: \n",
      "{'loss': 0.35064457753036593, 'accuracy': 0.8752966772151899}\n",
      "Train metrics: \n",
      " loss: 0.29118525981903076\n",
      "Best model yet, saving\n",
      "Epoch 5\n",
      "Validation metrics: \n",
      "{'loss': 0.3201251546793346, 'accuracy': 0.883504746835443}\n",
      "Train metrics: \n",
      " loss: 0.2768471837043762\n",
      "Best model yet, saving\n",
      "Epoch 6\n",
      "Validation metrics: \n",
      "{'loss': 0.3138001764876933, 'accuracy': 0.8898338607594937}\n",
      "Train metrics: \n",
      " loss: 0.2612755596637726\n",
      "Best model yet, saving\n",
      "Epoch 7\n",
      "Validation metrics: \n",
      "{'loss': 0.3042480791859989, 'accuracy': 0.8904272151898734}\n",
      "Train metrics: \n",
      " loss: 0.2496197521686554\n",
      "Best model yet, saving\n",
      "Epoch 8\n",
      "Validation metrics: \n",
      "{'loss': 0.30935603880052326, 'accuracy': 0.8880537974683544}\n",
      "Train metrics: \n",
      " loss: 0.23960310220718384\n",
      "Epoch 9\n",
      "Validation metrics: \n",
      "{'loss': 0.29628796385058875, 'accuracy': 0.8983386075949367}\n",
      "Train metrics: \n",
      " loss: 0.2273220419883728\n",
      "Best model yet, saving\n",
      "Epoch 10\n",
      "Validation metrics: \n",
      "{'loss': 0.3002553080456166, 'accuracy': 0.8948773734177216}\n",
      "Train metrics: \n",
      " loss: 0.21893317997455597\n",
      "Epoch 11\n",
      "Validation metrics: \n",
      "{'loss': 0.31755732509154305, 'accuracy': 0.8895371835443038}\n",
      "Train metrics: \n",
      " loss: 0.20918752253055573\n",
      "Epoch 12\n",
      "Validation metrics: \n",
      "{'loss': 0.3009762345235559, 'accuracy': 0.8959651898734177}\n",
      "Train metrics: \n",
      " loss: 0.20195505023002625\n",
      "Epoch 13\n",
      "Validation metrics: \n",
      "{'loss': 0.318390946222257, 'accuracy': 0.8925039556962026}\n",
      "Train metrics: \n",
      " loss: 0.18905949592590332\n",
      "Epoch 14\n",
      "Validation metrics: \n",
      "{'loss': 0.315698210197159, 'accuracy': 0.8955696202531646}\n",
      "Train metrics: \n",
      " loss: 0.18358787894248962\n",
      "Epoch 15\n",
      "Validation metrics: \n",
      "{'loss': 0.3074936455563654, 'accuracy': 0.8998219936708861}\n",
      "Train metrics: \n",
      " loss: 0.17847315967082977\n",
      "Epoch 16\n",
      "Validation metrics: \n",
      "{'loss': 0.3348101473684552, 'accuracy': 0.892998417721519}\n",
      "Train metrics: \n",
      " loss: 0.1710987538099289\n",
      "Epoch 17\n",
      "Validation metrics: \n",
      "{'loss': 0.3140170717541176, 'accuracy': 0.9020965189873418}\n",
      "Train metrics: \n",
      " loss: 0.16379404067993164\n",
      "Epoch 18\n",
      "Validation metrics: \n",
      "{'loss': 0.3265047724111171, 'accuracy': 0.8947784810126582}\n",
      "Train metrics: \n",
      " loss: 0.16057640314102173\n",
      "Epoch 19\n",
      "Validation metrics: \n",
      "{'loss': 0.32644085821848884, 'accuracy': 0.9016020569620253}\n",
      "Train metrics: \n",
      " loss: 0.1503043919801712\n"
     ]
    }
   ],
   "source": [
    "train_loss_array, val_loss_array, val_accuracy_array = train_model(model,\n",
    "            train_loader=train_loader,\n",
    "            val_loader=val_loader,\n",
    "            loss_function=torch.nn.functional.cross_entropy,\n",
    "            optimizer_class=torch.optim.Adam,\n",
    "            initial_lr=0.001,\n",
    "            max_epochs=20)"
   ]
  },
  {
   "cell_type": "code",
   "execution_count": 24,
   "metadata": {
    "colab": {
     "base_uri": "https://localhost:8080/",
     "height": 336
    },
    "id": "HsXnGvPriATV",
    "outputId": "3541021d-1022-4e4e-fe4b-753dfec52417"
   },
   "outputs": [
    {
     "data": {
      "image/png": "[encoded data removed]",
      "text/plain": [
       "<Figure size 1080x360 with 2 Axes>"
      ]
     },
     "metadata": {
      "needs_background": "light"
     },
     "output_type": "display_data"
    }
   ],
   "source": [
    "plot_train_process(train_loss_array, val_loss_array, val_accuracy_array)"
   ]
  },
  {
   "cell_type": "code",
   "execution_count": 25,
   "metadata": {
    "colab": {
     "base_uri": "https://localhost:8080/"
    },
    "id": "tWDj64rDczD9",
    "outputId": "c92ddb16-0d4b-4410-d899-3980676e761f"
   },
   "outputs": [
    {
     "name": "stdout",
     "output_type": "stream",
     "text": [
      "0.89375\n"
     ]
    }
   ],
   "source": [
    "print(test_predict(test_loader=test_loader))"
   ]
  },
  {
   "cell_type": "markdown",
   "metadata": {
    "id": "gLAjNjNx8iB1"
   },
   "source": [
    "### Task 3: Fix it.\n",
    "Fix the overfitted network from the previous step (at least partially) by using regularization techniques (Dropout/Batchnorm/...) and demonstrate the results. "
   ]
  },
  {
   "cell_type": "code",
   "execution_count": 26,
   "metadata": {
    "id": "Ho4Tepqo8iB1"
   },
   "outputs": [],
   "source": [
    "class FixedNeuralNetwork(nn.Module):\n",
    "    def __init__(self, input_shape=28*28, num_classes=10, input_channels=1):\n",
    "        super(self.__class__, self).__init__()\n",
    "        self.model = nn.Sequential(\n",
    "            nn.Flatten(), # This layer converts image into a vector to use Linear layers afterwards\n",
    "            # Your network structure comes here\n",
    "            nn.Linear(input_shape * input_channels, 512),\n",
    "            nn.BatchNorm1d(512),\n",
    "            nn.ReLU(),\n",
    "            nn.Dropout(0.5),\n",
    "            nn.Linear(512, 256),\n",
    "            nn.BatchNorm1d(256,),\n",
    "            nn.ReLU(),\n",
    "            nn.Dropout(0.5),\n",
    "            nn.Linear(256, 10)\n",
    "        )\n",
    "        \n",
    "    def forward(self, inp):       \n",
    "        out = self.model(inp)\n",
    "        return out\n",
    "    \n",
    "    def __call__(self, inp):\n",
    "        return self.forward(inp)"
   ]
  },
  {
   "cell_type": "code",
   "execution_count": 27,
   "metadata": {
    "colab": {
     "base_uri": "https://localhost:8080/"
    },
    "id": "_DcFtBka8iB1",
    "outputId": "a4b62459-5432-4495-ec1b-4866eeea3944"
   },
   "outputs": [
    {
     "name": "stdout",
     "output_type": "stream",
     "text": [
      "----------------------------------------------------------------\n",
      "        Layer (type)               Output Shape         Param #\n",
      "================================================================\n",
      "           Flatten-1                  [-1, 784]               0\n",
      "            Linear-2                  [-1, 512]         401,920\n",
      "       BatchNorm1d-3                  [-1, 512]           1,024\n",
      "              ReLU-4                  [-1, 512]               0\n",
      "           Dropout-5                  [-1, 512]               0\n",
      "            Linear-6                  [-1, 256]         131,328\n",
      "       BatchNorm1d-7                  [-1, 256]             512\n",
      "              ReLU-8                  [-1, 256]               0\n",
      "           Dropout-9                  [-1, 256]               0\n",
      "           Linear-10                   [-1, 10]           2,570\n",
      "================================================================\n",
      "Total params: 537,354\n",
      "Trainable params: 537,354\n",
      "Non-trainable params: 0\n",
      "----------------------------------------------------------------\n",
      "Input size (MB): 0.00\n",
      "Forward/backward pass size (MB): 0.03\n",
      "Params size (MB): 2.05\n",
      "Estimated Total Size (MB): 2.08\n",
      "----------------------------------------------------------------\n"
     ]
    }
   ],
   "source": [
    "torchsummary.summary(FixedNeuralNetwork().to(device), (28*28,))"
   ]
  },
  {
   "cell_type": "code",
   "execution_count": 28,
   "metadata": {
    "colab": {
     "base_uri": "https://localhost:8080/"
    },
    "id": "VnR5YkuR8iB1",
    "outputId": "0109e5dc-bd11-4657-bbd3-48b98ee41480"
   },
   "outputs": [
    {
     "name": "stdout",
     "output_type": "stream",
     "text": [
      "FixedNeuralNetwork(\n",
      "  (model): Sequential(\n",
      "    (0): Flatten(start_dim=1, end_dim=-1)\n",
      "    (1): Linear(in_features=784, out_features=512, bias=True)\n",
      "    (2): BatchNorm1d(512, eps=1e-05, momentum=0.1, affine=True, track_running_stats=True)\n",
      "    (3): ReLU()\n",
      "    (4): Dropout(p=0.5, inplace=False)\n",
      "    (5): Linear(in_features=512, out_features=256, bias=True)\n",
      "    (6): BatchNorm1d(256, eps=1e-05, momentum=0.1, affine=True, track_running_stats=True)\n",
      "    (7): ReLU()\n",
      "    (8): Dropout(p=0.5, inplace=False)\n",
      "    (9): Linear(in_features=256, out_features=10, bias=True)\n",
      "  )\n",
      ")\n"
     ]
    }
   ],
   "source": [
    "model = FixedNeuralNetwork().to(device)\n",
    "opt = torch.optim.Adam(model.parameters(), lr=0.01)\n",
    "loss_func = nn.CrossEntropyLoss()\n",
    "\n",
    "print(model)\n",
    "# Your experiments, come here"
   ]
  },
  {
   "cell_type": "code",
   "execution_count": 29,
   "metadata": {
    "colab": {
     "base_uri": "https://localhost:8080/"
    },
    "id": "2f6_ww7TicAY",
    "outputId": "52d97e94-88d7-4542-afa6-7435eb3abf3a"
   },
   "outputs": [
    {
     "name": "stdout",
     "output_type": "stream",
     "text": [
      "Epoch 0\n",
      "Validation metrics: \n",
      "{'loss': 0.42395844678335554, 'accuracy': 0.8475079113924051}\n",
      "Train metrics: \n",
      " loss: 0.5612640976905823\n",
      "Best model yet, saving\n",
      "Epoch 1\n",
      "Validation metrics: \n",
      "{'loss': 0.3698777164085002, 'accuracy': 0.8630340189873418}\n",
      "Train metrics: \n",
      " loss: 0.42829403281211853\n",
      "Best model yet, saving\n",
      "Epoch 2\n",
      "Validation metrics: \n",
      "{'loss': 0.3831068341490589, 'accuracy': 0.8580893987341772}\n",
      "Train metrics: \n",
      " loss: 0.39338910579681396\n",
      "Epoch 3\n",
      "Validation metrics: \n",
      "{'loss': 0.3403741219375707, 'accuracy': 0.8763844936708861}\n",
      "Train metrics: \n",
      " loss: 0.3705461919307709\n",
      "Best model yet, saving\n",
      "Epoch 4\n",
      "Validation metrics: \n",
      "{'loss': 0.33669773479805715, 'accuracy': 0.8768789556962026}\n",
      "Train metrics: \n",
      " loss: 0.35381731390953064\n",
      "Best model yet, saving\n",
      "Epoch 5\n",
      "Validation metrics: \n",
      "{'loss': 0.31173209280152864, 'accuracy': 0.8872626582278481}\n",
      "Train metrics: \n",
      " loss: 0.3401275873184204\n",
      "Best model yet, saving\n",
      "Epoch 6\n",
      "Validation metrics: \n",
      "{'loss': 0.3173494255995449, 'accuracy': 0.8820213607594937}\n",
      "Train metrics: \n",
      " loss: 0.32909438014030457\n",
      "Epoch 7\n",
      "Validation metrics: \n",
      "{'loss': 0.30847324261182474, 'accuracy': 0.8876582278481012}\n",
      "Train metrics: \n",
      " loss: 0.32287853956222534\n",
      "Best model yet, saving\n",
      "Epoch 8\n",
      "Validation metrics: \n",
      "{'loss': 0.30155033552193944, 'accuracy': 0.8918117088607594}\n",
      "Train metrics: \n",
      " loss: 0.3111908733844757\n",
      "Best model yet, saving\n",
      "Epoch 9\n",
      "Validation metrics: \n",
      "{'loss': 0.30531389369994777, 'accuracy': 0.8867681962025317}\n",
      "Train metrics: \n",
      " loss: 0.3028450608253479\n",
      "Epoch 10\n",
      "Validation metrics: \n",
      "{'loss': 0.2979806897383702, 'accuracy': 0.8930973101265823}\n",
      "Train metrics: \n",
      " loss: 0.2977413833141327\n",
      "Best model yet, saving\n",
      "Epoch 11\n",
      "Validation metrics: \n",
      "{'loss': 0.30682603128348723, 'accuracy': 0.8905261075949367}\n",
      "Train metrics: \n",
      " loss: 0.29008927941322327\n",
      "Epoch 12\n",
      "Validation metrics: \n",
      "{'loss': 0.29127972073192837, 'accuracy': 0.8946795886075949}\n",
      "Train metrics: \n",
      " loss: 0.28399455547332764\n",
      "Best model yet, saving\n",
      "Epoch 13\n",
      "Validation metrics: \n",
      "{'loss': 0.2914866254299502, 'accuracy': 0.8964596518987342}\n",
      "Train metrics: \n",
      " loss: 0.2785422205924988\n",
      "Epoch 14\n",
      "Validation metrics: \n",
      "{'loss': 0.2884221018492421, 'accuracy': 0.8935917721518988}\n",
      "Train metrics: \n",
      " loss: 0.2765214145183563\n",
      "Best model yet, saving\n",
      "Epoch 15\n",
      "Validation metrics: \n",
      "{'loss': 0.2914570230471937, 'accuracy': 0.8942840189873418}\n",
      "Train metrics: \n",
      " loss: 0.2698246240615845\n",
      "Epoch 16\n",
      "Validation metrics: \n",
      "{'loss': 0.2852921482128433, 'accuracy': 0.8964596518987342}\n",
      "Train metrics: \n",
      " loss: 0.26181578636169434\n",
      "Best model yet, saving\n",
      "Epoch 17\n",
      "Validation metrics: \n",
      "{'loss': 0.29424180109289627, 'accuracy': 0.8952729430379747}\n",
      "Train metrics: \n",
      " loss: 0.2544921040534973\n",
      "Epoch 18\n",
      "Validation metrics: \n",
      "{'loss': 0.2928652012649971, 'accuracy': 0.8971518987341772}\n",
      "Train metrics: \n",
      " loss: 0.2546527087688446\n",
      "Epoch 19\n",
      "Validation metrics: \n",
      "{'loss': 0.28724493727653844, 'accuracy': 0.896064082278481}\n",
      "Train metrics: \n",
      " loss: 0.24959690868854523\n"
     ]
    }
   ],
   "source": [
    "train_loss_array, val_loss_array, val_accuracy_array = train_model(model,\n",
    "            train_loader=train_loader,\n",
    "            val_loader=val_loader,\n",
    "            loss_function=torch.nn.functional.cross_entropy,\n",
    "            optimizer_class=torch.optim.Adam,\n",
    "            initial_lr=0.001,\n",
    "            max_epochs=20)"
   ]
  },
  {
   "cell_type": "code",
   "execution_count": 30,
   "metadata": {
    "colab": {
     "base_uri": "https://localhost:8080/",
     "height": 336
    },
    "id": "1SDl5boKUH0L",
    "outputId": "f3b66c62-a528-41d6-92b3-9358a2e62bad"
   },
   "outputs": [
    {
     "data": {
      "image/png": "[encoded data removed]",
      "text/plain": [
       "<Figure size 1080x360 with 2 Axes>"
      ]
     },
     "metadata": {
      "needs_background": "light"
     },
     "output_type": "display_data"
    }
   ],
   "source": [
    "plot_train_process(train_loss_array, val_loss_array, val_accuracy_array)"
   ]
  },
  {
   "cell_type": "code",
   "execution_count": 31,
   "metadata": {
    "colab": {
     "base_uri": "https://localhost:8080/"
    },
    "id": "cdnjzY0rihGd",
    "outputId": "f25c3f25-29b3-488c-e6c9-b2d88d28c288"
   },
   "outputs": [
    {
     "name": "stdout",
     "output_type": "stream",
     "text": [
      "0.887109375\n"
     ]
    }
   ],
   "source": [
    "print(test_predict(test_loader=test_loader))"
   ]
  },
  {
   "cell_type": "markdown",
   "metadata": {
    "id": "dMui_uLJ7G0d"
   },
   "source": [
    "### Conclusions:\n",
    "_Write down small report with your conclusions and your ideas._"
   ]
  },
  {
   "cell_type": "markdown",
   "metadata": {
    "id": "JZUkJMmvXjVG"
   },
   "source": [
    "* As expected, the perceptron without regularization techniques retrained. We see that the loss on the train continues to fall, and on validation begins to grow upwards. Also accuracy on validation stops increasing and starts bouncing up and down. So, as we can see from the learning process, we saved the best model at epoch 9. The best model gives 89.375% accuracy on the test.\n",
    "* As we can see, adding batchnorm and dropout has improved the situation with overfitting, the loss on train and validation decrease together. Also adding dropout expectedly decreased accuracy on the test (the best model gives 88.71%), because the complexity of the model drops with the addition of dropout. We can also see that the batchnorm has a positive effect on the convergence."
   ]
  }
 ],
 "metadata": {
  "accelerator": "GPU",
  "colab": {
   "collapsed_sections": [],
   "name": "Overfit_it_2.ipynb",
   "provenance": []
  },
  "kernelspec": {
   "display_name": "Python 3",
   "language": "python",
   "name": "python3"
  },
  "language_info": {
   "codemirror_mode": {
    "name": "ipython",
    "version": 3
   },
   "file_extension": ".py",
   "mimetype": "text/x-python",
   "name": "python",
   "nbconvert_exporter": "python",
   "pygments_lexer": "ipython3",
   "version": "3.8.5"
  },
  "nbTranslate": {
   "displayLangs": [
    "*"
   ],
   "hotkey": "alt-t",
   "langInMainMenu": true,
   "sourceLang": "en",
   "targetLang": "fr",
   "useGoogleTranslate": true
  },
  "toc": {
   "base_numbering": 1,
   "nav_menu": {},
   "number_sections": true,
   "sideBar": true,
   "skip_h1_title": false,
   "title_cell": "Table of Contents",
   "title_sidebar": "Contents",
   "toc_cell": false,
   "toc_position": {},
   "toc_section_display": true,
   "toc_window_display": false
  },
  "varInspector": {
   "cols": {
    "lenName": 16,
    "lenType": 16,
    "lenVar": 40
   },
   "kernels_config": {
    "python": {
     "delete_cmd_postfix": "",
     "delete_cmd_prefix": "del ",
     "library": "var_list.py",
     "varRefreshCmd": "print(var_dic_list())"
    },
    "r": {
     "delete_cmd_postfix": ") ",
     "delete_cmd_prefix": "rm(",
     "library": "var_list.r",
     "varRefreshCmd": "cat(var_dic_list()) "
    }
   },
   "types_to_exclude": [
    "module",
    "function",
    "builtin_function_or_method",
    "instance",
    "_Feature"
   ],
   "window_display": false
  }
 },
 "nbformat": 4,
 "nbformat_minor": 1
}
